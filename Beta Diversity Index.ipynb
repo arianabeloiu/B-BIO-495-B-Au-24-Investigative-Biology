{
 "cells": [
  {
   "cell_type": "code",
   "execution_count": 6,
   "id": "2e480137-d5aa-4cf5-b18f-f3d2086febeb",
   "metadata": {},
   "outputs": [],
   "source": [
    "import pandas as pd\n",
    "import os \n",
    "\n",
    "data_dir = \"/Users/arianabeloiu/Downloads/data_for_research/input\"\n",
    "file_names = [\n",
    "    \"Akmal_et_al_Malaysia_data.csv\",\n",
    "    \"Guam_corals.csv\",\n",
    "    \"NCRMP_Florida_corals.csv\",\n",
    "    \"NCRMP_Puerto_Rico_corals.csv\",\n",
    "    \"NCRMP_USVI_corals.csv\",\n",
    "    \"Per_genus_persian_gulf_Hazraty-Kari_et_al.csv\",\n",
    "    \"Persian_gulf_Hazraty-Kari_et_al.csv\",\n",
    "    \"Sere_et_al_2015_Isle_de_la_Reunion_Disease_Data.csv\"\n",
    "] \n",
    "\n",
    "datasets = {file: pd.read_csv(os.path.join(data_dir, file)) for file in file_names}"
   ]
  },
  {
   "cell_type": "code",
   "execution_count": 13,
   "id": "66428b50-dd00-465c-a4de-2a5af59346d2",
   "metadata": {},
   "outputs": [],
   "source": [
    "import numpy as np  \n",
    "\n",
    "for name, df in datasets.items():\n",
    "    df[\"Source\"] = name\n",
    "\n",
    "all_data = pd.concat(datasets.values(), ignore_index=True) \n",
    "\n",
    "all_data = all_data.dropna(subset=[\"disease_prevalence\", \"Endozoicomonas_tissue\"])\n"
   ]
  },
  {
   "cell_type": "code",
   "execution_count": 17,
   "id": "9ad3b50e-6b33-4d67-a3ac-4bde868eb6c0",
   "metadata": {},
   "outputs": [
    {
     "name": "stdout",
     "output_type": "stream",
     "text": [
      "Collecting scikit-bio\n",
      "  Downloading scikit-bio-0.6.2.tar.gz (2.7 MB)\n",
      "\u001b[2K     \u001b[90m━━━━━━━━━━━━━━━━━━━━━━━━━━━━━━━━━━━━━━━━\u001b[0m \u001b[32m2.7/2.7 MB\u001b[0m \u001b[31m17.8 MB/s\u001b[0m eta \u001b[36m0:00:00\u001b[0ma \u001b[36m0:00:01\u001b[0m\n",
      "\u001b[?25h  Installing build dependencies ... \u001b[?25ldone\n",
      "\u001b[?25h  Getting requirements to build wheel ... \u001b[?25ldone\n",
      "\u001b[?25h  Preparing metadata (pyproject.toml) ... \u001b[?25ldone\n",
      "\u001b[?25hRequirement already satisfied: requests>=2.20.0 in ./anaconda3/lib/python3.11/site-packages (from scikit-bio) (2.31.0)\n",
      "Requirement already satisfied: decorator>=3.4.2 in ./anaconda3/lib/python3.11/site-packages (from scikit-bio) (5.1.1)\n",
      "Collecting natsort>=4.0.3 (from scikit-bio)\n",
      "  Obtaining dependency information for natsort>=4.0.3 from https://files.pythonhosted.org/packages/ef/82/7a9d0550484a62c6da82858ee9419f3dd1ccc9aa1c26a1e43da3ecd20b0d/natsort-8.4.0-py3-none-any.whl.metadata\n",
      "  Downloading natsort-8.4.0-py3-none-any.whl.metadata (21 kB)\n",
      "Requirement already satisfied: numpy>=1.17.0 in ./anaconda3/lib/python3.11/site-packages (from scikit-bio) (1.26.3)\n",
      "Requirement already satisfied: pandas>=1.5.0 in ./anaconda3/lib/python3.11/site-packages (from scikit-bio) (2.1.4)\n",
      "Requirement already satisfied: scipy>=1.9.0 in ./anaconda3/lib/python3.11/site-packages (from scikit-bio) (1.11.4)\n",
      "Requirement already satisfied: h5py>=3.6.0 in ./anaconda3/lib/python3.11/site-packages (from scikit-bio) (3.9.0)\n",
      "Collecting biom-format>=2.1.16 (from scikit-bio)\n",
      "  Downloading biom-format-2.1.16.tar.gz (11.7 MB)\n",
      "\u001b[2K     \u001b[90m━━━━━━━━━━━━━━━━━━━━━━━━━━━━━━━━━━━━━━━━\u001b[0m \u001b[32m11.7/11.7 MB\u001b[0m \u001b[31m32.3 MB/s\u001b[0m eta \u001b[36m0:00:00\u001b[0ma \u001b[36m0:00:01\u001b[0m\n",
      "\u001b[?25h  Installing build dependencies ... \u001b[?25ldone\n",
      "\u001b[?25h  Getting requirements to build wheel ... \u001b[?25ldone\n",
      "\u001b[?25h  Preparing metadata (pyproject.toml) ... \u001b[?25ldone\n",
      "\u001b[?25hRequirement already satisfied: statsmodels>=0.14.0 in ./anaconda3/lib/python3.11/site-packages (from scikit-bio) (0.14.0)\n",
      "Requirement already satisfied: click in ./anaconda3/lib/python3.11/site-packages (from biom-format>=2.1.16->scikit-bio) (8.1.7)\n",
      "Requirement already satisfied: python-dateutil>=2.8.2 in ./anaconda3/lib/python3.11/site-packages (from pandas>=1.5.0->scikit-bio) (2.8.2)\n",
      "Requirement already satisfied: pytz>=2020.1 in ./anaconda3/lib/python3.11/site-packages (from pandas>=1.5.0->scikit-bio) (2023.3.post1)\n",
      "Requirement already satisfied: tzdata>=2022.1 in ./anaconda3/lib/python3.11/site-packages (from pandas>=1.5.0->scikit-bio) (2023.3)\n",
      "Requirement already satisfied: charset-normalizer<4,>=2 in ./anaconda3/lib/python3.11/site-packages (from requests>=2.20.0->scikit-bio) (2.0.4)\n",
      "Requirement already satisfied: idna<4,>=2.5 in ./anaconda3/lib/python3.11/site-packages (from requests>=2.20.0->scikit-bio) (3.4)\n",
      "Requirement already satisfied: urllib3<3,>=1.21.1 in ./anaconda3/lib/python3.11/site-packages (from requests>=2.20.0->scikit-bio) (1.26.18)\n",
      "Requirement already satisfied: certifi>=2017.4.17 in ./anaconda3/lib/python3.11/site-packages (from requests>=2.20.0->scikit-bio) (2024.8.30)\n",
      "Requirement already satisfied: patsy>=0.5.2 in ./anaconda3/lib/python3.11/site-packages (from statsmodels>=0.14.0->scikit-bio) (0.5.3)\n",
      "Requirement already satisfied: packaging>=21.3 in ./anaconda3/lib/python3.11/site-packages (from statsmodels>=0.14.0->scikit-bio) (23.1)\n",
      "Requirement already satisfied: six in ./anaconda3/lib/python3.11/site-packages (from patsy>=0.5.2->statsmodels>=0.14.0->scikit-bio) (1.16.0)\n",
      "Downloading natsort-8.4.0-py3-none-any.whl (38 kB)\n",
      "Building wheels for collected packages: scikit-bio, biom-format\n",
      "  Building wheel for scikit-bio (pyproject.toml) ... \u001b[?25ldone\n",
      "\u001b[?25h  Created wheel for scikit-bio: filename=scikit_bio-0.6.2-cp311-cp311-macosx_11_0_arm64.whl size=2354385 sha256=95f8de24bfdc5c8e4d36e34c4dfe33600e6a889b87292b365c83e826786fdada\n",
      "  Stored in directory: /Users/arianabeloiu/Library/Caches/pip/wheels/74/0c/9a/e6fc75ffc1e6402b314d9fe0a17732f9e582427877f8feea4f\n",
      "  Building wheel for biom-format (pyproject.toml) ... \u001b[?25ldone\n",
      "\u001b[?25h  Created wheel for biom-format: filename=biom_format-2.1.16-cp311-cp311-macosx_11_0_arm64.whl size=11780653 sha256=3ed1fb3be7d70a112740b7159e091f91661b55418a7d3b6e2962a7544fdc3a9e\n",
      "  Stored in directory: /Users/arianabeloiu/Library/Caches/pip/wheels/a5/6b/58/a879e8fbae2479a3d1a68719f3a062fe62701d6494f1b74f5e\n",
      "Successfully built scikit-bio biom-format\n",
      "Installing collected packages: natsort, biom-format, scikit-bio\n",
      "Successfully installed biom-format-2.1.16 natsort-8.4.0 scikit-bio-0.6.2\n",
      "Note: you may need to restart the kernel to use updated packages.\n"
     ]
    }
   ],
   "source": [
    "pip install scikit-bio"
   ]
  },
  {
   "cell_type": "code",
   "execution_count": 27,
   "id": "a1349595-0f3c-4397-a4ff-09b991c00580",
   "metadata": {},
   "outputs": [
    {
     "name": "stderr",
     "output_type": "stream",
     "text": [
      "/var/folders/__/5zcmln694rlcly_g4cqvbflh0000gn/T/ipykernel_57879/4198253932.py:1: SettingWithCopyWarning: \n",
      "A value is trying to be set on a copy of a slice from a DataFrame.\n",
      "Try using .loc[row_indexer,col_indexer] = value instead\n",
      "\n",
      "See the caveats in the documentation: https://pandas.pydata.org/pandas-docs/stable/user_guide/indexing.html#returning-a-view-versus-a-copy\n",
      "  relevant_data[\"disease_prevalence\"] = pd.to_numeric(relevant_data[\"disease_prevalence\"], errors=\"coerce\")\n",
      "/var/folders/__/5zcmln694rlcly_g4cqvbflh0000gn/T/ipykernel_57879/4198253932.py:2: SettingWithCopyWarning: \n",
      "A value is trying to be set on a copy of a slice from a DataFrame.\n",
      "Try using .loc[row_indexer,col_indexer] = value instead\n",
      "\n",
      "See the caveats in the documentation: https://pandas.pydata.org/pandas-docs/stable/user_guide/indexing.html#returning-a-view-versus-a-copy\n",
      "  relevant_data[\"Endozoicomonas_tissue\"] = pd.to_numeric(relevant_data[\"Endozoicomonas_tissue\"], errors=\"coerce\")\n"
     ]
    }
   ],
   "source": [
    "relevant_data[\"disease_prevalence\"] = pd.to_numeric(relevant_data[\"disease_prevalence\"], errors=\"coerce\")\n",
    "relevant_data[\"Endozoicomonas_tissue\"] = pd.to_numeric(relevant_data[\"Endozoicomonas_tissue\"], errors=\"coerce\") \n",
    "\n",
    "relevant_data = relevant_data.dropna()"
   ]
  },
  {
   "cell_type": "code",
   "execution_count": 29,
   "id": "7a21b803-1a71-462b-8ff7-f50d35e5b944",
   "metadata": {},
   "outputs": [
    {
     "name": "stdout",
     "output_type": "stream",
     "text": [
      "<class 'pandas.core.frame.DataFrame'>\n",
      "Index: 61 entries, 377 to 454\n",
      "Data columns (total 2 columns):\n",
      " #   Column                 Non-Null Count  Dtype  \n",
      "---  ------                 --------------  -----  \n",
      " 0   disease_prevalence     61 non-null     float64\n",
      " 1   Endozoicomonas_tissue  61 non-null     float64\n",
      "dtypes: float64(2)\n",
      "memory usage: 1.4 KB\n",
      "None\n",
      "     disease_prevalence  Endozoicomonas_tissue\n",
      "377                 1.7              58.681818\n",
      "380                 0.0              41.857143\n",
      "381                 0.0              58.500000\n",
      "382                 0.0               5.666667\n",
      "383                 0.0             425.571429\n"
     ]
    }
   ],
   "source": [
    "print(relevant_data.info())\n",
    "print(relevant_data.head()) "
   ]
  },
  {
   "cell_type": "code",
   "execution_count": 35,
   "id": "7e6b0b99-fffe-4bf2-b6ae-2deeaa276b5a",
   "metadata": {},
   "outputs": [],
   "source": [
    "import numpy as np\n",
    "from scipy.spatial.distance import pdist, squareform\n",
    "\n",
    "# Recalculate pairwise distances to ensure symmetry\n",
    "distance_matrix = pdist(relevant_data, metric=\"braycurtis\")\n",
    "square_matrix = squareform(distance_matrix)\n",
    "\n",
    "# Ensure no NaNs exist in the matrix\n",
    "square_matrix[np.isnan(square_matrix)] = 0  # Replace NaNs with 0\n",
    "\n",
    "# Verify symmetry\n",
    "if not np.allclose(square_matrix, square_matrix.T):\n",
    "    print(\"Matrix is not symmetric. Making it symmetric.\")\n",
    "    square_matrix = (square_matrix + square_matrix.T) / 2\n",
    "\n",
    "# Check for hollow diagonal and fix if necessary\n",
    "np.fill_diagonal(square_matrix, 0)\n"
   ]
  },
  {
   "cell_type": "code",
   "execution_count": 37,
   "id": "68c33f94-d35e-4970-b0b7-af12bb170748",
   "metadata": {},
   "outputs": [
    {
     "name": "stderr",
     "output_type": "stream",
     "text": [
      "/Users/arianabeloiu/anaconda3/lib/python3.11/site-packages/skbio/stats/ordination/_principal_coordinate_analysis.py:146: RuntimeWarning: The result contains negative eigenvalues. Please compare their magnitude with the magnitude of some of the largest positive eigenvalues. If the negative ones are smaller, it's probably safe to ignore them, but if they are large in magnitude, the results won't be useful. See the Notes section for more details. The smallest eigenvalue is -0.10978928407996875 and the largest is 7.287920522396075.\n",
      "  warn(\n"
     ]
    },
    {
     "data": {
      "image/png": "[encoded data removed]",
      "text/plain": [
       "<Figure size 640x480 with 1 Axes>"
      ]
     },
     "metadata": {},
     "output_type": "display_data"
    }
   ],
   "source": [
    "from skbio.stats.distance import DistanceMatrix\n",
    "from skbio.stats.ordination import pcoa\n",
    "\n",
    "# Convert to DistanceMatrix\n",
    "dm = DistanceMatrix(square_matrix)\n",
    "\n",
    "# Run PCoA\n",
    "pcoa_results = pcoa(dm)\n",
    "\n",
    "# Plot the results\n",
    "import matplotlib.pyplot as plt\n",
    "import seaborn as sns\n",
    "\n",
    "sns.scatterplot(x=pcoa_results.samples['PC1'], y=pcoa_results.samples['PC2'])\n",
    "plt.title(\"PCoA - Bray-Curtis Dissimilarity\")\n",
    "plt.xlabel(\"PC1\")\n",
    "plt.ylabel(\"PC2\")\n",
    "plt.show()"
   ]
  },
  {
   "cell_type": "code",
   "execution_count": null,
   "id": "332326f8-f6fe-43cd-88d9-0ab319d7a144",
   "metadata": {},
   "outputs": [],
   "source": []
  }
 ],
 "metadata": {
  "kernelspec": {
   "display_name": "Python 3 (ipykernel)",
   "language": "python",
   "name": "python3"
  },
  "language_info": {
   "codemirror_mode": {
    "name": "ipython",
    "version": 3
   },
   "file_extension": ".py",
   "mimetype": "text/x-python",
   "name": "python",
   "nbconvert_exporter": "python",
   "pygments_lexer": "ipython3",
   "version": "3.11.5"
  }
 },
 "nbformat": 4,
 "nbformat_minor": 5
}
